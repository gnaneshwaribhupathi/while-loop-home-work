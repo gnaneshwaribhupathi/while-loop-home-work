{
 "cells": [
  {
   "cell_type": "code",
   "execution_count": 1,
   "id": "aca2100e",
   "metadata": {},
   "outputs": [],
   "source": [
    "#WHILE LOOP HOME WORK :"
   ]
  },
  {
   "cell_type": "code",
   "execution_count": 3,
   "id": "e18c766e",
   "metadata": {},
   "outputs": [],
   "source": [
    "#GIVEN THE STRING  CREATE NEW STRING AND CAPITALIZE EVEN CHARACTERS"
   ]
  },
  {
   "cell_type": "code",
   "execution_count": 6,
   "id": "07e74dcc",
   "metadata": {},
   "outputs": [
    {
     "name": "stdout",
     "output_type": "stream",
     "text": [
      "enter the string  :asdfghjk\n"
     ]
    }
   ],
   "source": [
    "x=input(\"enter the string  :\")\n",
    "i=0\n",
    "k=\"\"\n",
    "while i<len(x):\n",
    "    if i%2==0:\n",
    "        k=k+x[i].upper()\n",
    "        \n",
    "    \n",
    "    else:\n",
    "        k=k+x[i]\n",
    "        \n",
    "        \n",
    "    i=i+1 \n",
    "    "
   ]
  },
  {
   "cell_type": "code",
   "execution_count": 7,
   "id": "ad43696c",
   "metadata": {},
   "outputs": [
    {
     "data": {
      "text/plain": [
       "'AsDfGhJk'"
      ]
     },
     "execution_count": 7,
     "metadata": {},
     "output_type": "execute_result"
    }
   ],
   "source": [
    "k"
   ]
  },
  {
   "cell_type": "code",
   "execution_count": 2,
   "id": "dfe185fb",
   "metadata": {},
   "outputs": [
    {
     "name": "stdout",
     "output_type": "stream",
     "text": [
      "<class 'str'>\n",
      "<class 'int'>\n",
      "<class 'float'>\n",
      "<class 'complex'>\n"
     ]
    }
   ],
   "source": [
    "x=[\"a\",1,2.1,1+2j]\n",
    "i=0\n",
    "while i<len(x):\n",
    "    print(type(x[i]))\n",
    "    i=i+1"
   ]
  },
  {
   "cell_type": "code",
   "execution_count": 3,
   "id": "4b33645f",
   "metadata": {},
   "outputs": [
    {
     "name": "stdout",
     "output_type": "stream",
     "text": [
      "enter the string :abcd1234efg\n"
     ]
    }
   ],
   "source": [
    "x=input(\"enter the string :\")\n",
    "i=0\n",
    "str=\"\"\n",
    "str1=\"\"\n",
    "while i<len(x):\n",
    "    if x[i].isdigit():\n",
    "        str=str+x[i]\n",
    "        \n",
    "    else:\n",
    "        str1=str1+x[i]\n",
    "    i=i+1"
   ]
  },
  {
   "cell_type": "code",
   "execution_count": 4,
   "id": "9789cd12",
   "metadata": {},
   "outputs": [
    {
     "data": {
      "text/plain": [
       "'1234'"
      ]
     },
     "execution_count": 4,
     "metadata": {},
     "output_type": "execute_result"
    }
   ],
   "source": [
    "str"
   ]
  },
  {
   "cell_type": "code",
   "execution_count": 5,
   "id": "316b0101",
   "metadata": {},
   "outputs": [
    {
     "data": {
      "text/plain": [
       "'abcdefg'"
      ]
     },
     "execution_count": 5,
     "metadata": {},
     "output_type": "execute_result"
    }
   ],
   "source": [
    "str1"
   ]
  },
  {
   "cell_type": "code",
   "execution_count": 1,
   "id": "d2952451",
   "metadata": {},
   "outputs": [
    {
     "name": "stdout",
     "output_type": "stream",
     "text": [
      "enter the number20\n",
      "enter operation +,-,*,/,%+\n",
      "enter another number 12\n",
      "32\n"
     ]
    }
   ],
   "source": [
    "a=int(input(\"enter the number\"))\n",
    "app=input(\"enter operation +,-,*,/,%\")\n",
    "b=int(input(\"enter another number \"))\n",
    "while True:\n",
    "    \n",
    "    if app=='+':\n",
    "        print(a+b)\n",
    "        break\n",
    "    if app=='-':\n",
    "        print(a-b)\n",
    "        break\n",
    "    if app=='*':\n",
    "        print(a*b)\n",
    "        break\n",
    "    if app=='/':\n",
    "        print(a/b)\n",
    "        break\n",
    "    if app=='%':\n",
    "        print(a%b)\n",
    "        break"
   ]
  },
  {
   "cell_type": "code",
   "execution_count": 2,
   "id": "27c0c197",
   "metadata": {},
   "outputs": [
    {
     "name": "stdout",
     "output_type": "stream",
     "text": [
      "enter the number23\n",
      "enter operation +,-,*,/,%-\n",
      "enter another number 11\n",
      "12\n"
     ]
    }
   ],
   "source": [
    "a=int(input(\"enter the number\"))\n",
    "app=input(\"enter operation +,-,*,/,%\")\n",
    "b=int(input(\"enter another number \"))\n",
    "while True:\n",
    "    \n",
    "    if app=='+':\n",
    "        print(a+b)\n",
    "        break\n",
    "    if app=='-':\n",
    "        print(a-b)\n",
    "        break\n",
    "    if app=='*':\n",
    "        print(a*b)\n",
    "        break\n",
    "    if app=='/':\n",
    "        print(a/b)\n",
    "        break\n",
    "    if app=='%':\n",
    "        print(a%b)\n",
    "        break"
   ]
  },
  {
   "cell_type": "code",
   "execution_count": 3,
   "id": "ece3cc30",
   "metadata": {},
   "outputs": [
    {
     "name": "stdout",
     "output_type": "stream",
     "text": [
      "enter the number54\n",
      "enter operation +,-,*,/,%*\n",
      "enter another number 2\n",
      "108\n"
     ]
    }
   ],
   "source": [
    "a=int(input(\"enter the number\"))\n",
    "app=input(\"enter operation +,-,*,/,%\")\n",
    "b=int(input(\"enter another number \"))\n",
    "while True:\n",
    "    \n",
    "    if app=='+':\n",
    "        print(a+b)\n",
    "        break\n",
    "    if app=='-':\n",
    "        print(a-b)\n",
    "        break\n",
    "    if app=='*':\n",
    "        print(a*b)\n",
    "        break\n",
    "    if app=='/':\n",
    "        print(a/b)\n",
    "        break\n",
    "    if app=='%':\n",
    "        print(a%b)\n",
    "        break"
   ]
  },
  {
   "cell_type": "code",
   "execution_count": 4,
   "id": "6f55f1cc",
   "metadata": {},
   "outputs": [
    {
     "name": "stdout",
     "output_type": "stream",
     "text": [
      "enter the number99\n",
      "enter operation +,-,*,/,%/\n",
      "enter another number 3\n",
      "33.0\n"
     ]
    }
   ],
   "source": [
    "a=int(input(\"enter the number\"))\n",
    "app=input(\"enter operation +,-,*,/,%\")\n",
    "b=int(input(\"enter another number \"))\n",
    "while True:\n",
    "    \n",
    "    if app=='+':\n",
    "        print(a+b)\n",
    "        break\n",
    "    if app=='-':\n",
    "        print(a-b)\n",
    "        break\n",
    "    if app=='*':\n",
    "        print(a*b)\n",
    "        break\n",
    "    if app=='/':\n",
    "        print(a/b)\n",
    "        break\n",
    "    if app=='%':\n",
    "        print(a%b)\n",
    "        break"
   ]
  },
  {
   "cell_type": "code",
   "execution_count": 5,
   "id": "974c0ba6",
   "metadata": {},
   "outputs": [
    {
     "name": "stdout",
     "output_type": "stream",
     "text": [
      "enter the number56\n",
      "enter operation +,-,*,/,%%\n",
      "enter another number 8\n",
      "0\n"
     ]
    }
   ],
   "source": [
    "a=int(input(\"enter the number\"))\n",
    "app=input(\"enter operation +,-,*,/,%\")\n",
    "b=int(input(\"enter another number \"))\n",
    "while True:\n",
    "    \n",
    "    if app=='+':\n",
    "        print(a+b)\n",
    "        break\n",
    "    if app=='-':\n",
    "        print(a-b)\n",
    "        break\n",
    "    if app=='*':\n",
    "        print(a*b)\n",
    "        break\n",
    "    if app=='/':\n",
    "        print(a/b)\n",
    "        break\n",
    "    if app=='%':\n",
    "        print(a%b)\n",
    "        break"
   ]
  },
  {
   "cell_type": "code",
   "execution_count": 6,
   "id": "eeb93524",
   "metadata": {},
   "outputs": [],
   "source": [
    "x=[\"a\",\"b\",1,2,3,\"d\",\"e\",\"f\"]\n",
    "i=0\n",
    "str1=\"\"\n",
    "n=0\n",
    "\n",
    "while i<len(x):\n",
    "    if str(x[i]).isalpha():\n",
    "        str1=str1+x[i]\n",
    "    else:\n",
    "        n=n+x[i]\n",
    "        \n",
    "    i=i+1    "
   ]
  },
  {
   "cell_type": "code",
   "execution_count": 7,
   "id": "2b4994fb",
   "metadata": {},
   "outputs": [
    {
     "data": {
      "text/plain": [
       "'abdef'"
      ]
     },
     "execution_count": 7,
     "metadata": {},
     "output_type": "execute_result"
    }
   ],
   "source": [
    "str1"
   ]
  },
  {
   "cell_type": "code",
   "execution_count": 8,
   "id": "f36530b4",
   "metadata": {},
   "outputs": [
    {
     "data": {
      "text/plain": [
       "6"
      ]
     },
     "execution_count": 8,
     "metadata": {},
     "output_type": "execute_result"
    }
   ],
   "source": [
    "n"
   ]
  },
  {
   "cell_type": "code",
   "execution_count": 9,
   "id": "91ceaf22",
   "metadata": {},
   "outputs": [
    {
     "data": {
      "text/plain": [
       "{1, 2, 3, 6, 7, 9, 'b', 'd'}"
      ]
     },
     "execution_count": 9,
     "metadata": {},
     "output_type": "execute_result"
    }
   ],
   "source": [
    "m1=[1,2,3,'a','b']\n",
    "m2=[6,7,9,'a','d']\n",
    "set(m1)^set(m2)"
   ]
  },
  {
   "cell_type": "code",
   "execution_count": null,
   "id": "fc2e928f",
   "metadata": {},
   "outputs": [],
   "source": []
  }
 ],
 "metadata": {
  "kernelspec": {
   "display_name": "Python 3 (ipykernel)",
   "language": "python",
   "name": "python3"
  },
  "language_info": {
   "codemirror_mode": {
    "name": "ipython",
    "version": 3
   },
   "file_extension": ".py",
   "mimetype": "text/x-python",
   "name": "python",
   "nbconvert_exporter": "python",
   "pygments_lexer": "ipython3",
   "version": "3.9.12"
  }
 },
 "nbformat": 4,
 "nbformat_minor": 5
}
